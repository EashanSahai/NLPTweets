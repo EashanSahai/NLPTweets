{
 "cells": [
  {
   "cell_type": "markdown",
   "id": "a8b206fa",
   "metadata": {
    "papermill": {
     "duration": 0.008728,
     "end_time": "2024-10-16T23:22:45.541126",
     "exception": false,
     "start_time": "2024-10-16T23:22:45.532398",
     "status": "completed"
    },
    "tags": []
   },
   "source": [
    "# **About the Dataset**"
   ]
  },
  {
   "cell_type": "markdown",
   "id": "19cf2942",
   "metadata": {
    "papermill": {
     "duration": 0.008175,
     "end_time": "2024-10-16T23:22:45.557814",
     "exception": false,
     "start_time": "2024-10-16T23:22:45.549639",
     "status": "completed"
    },
    "tags": []
   },
   "source": [
    "* id         :a unique identifier for each tweet\n",
    "* text       :the text of the tweet\n",
    "* location   :the location the tweet was sent from (may be blank)\n",
    "* keyword    :a particular keyword from the tweet (may be blank)\n",
    "* target     :in train.csv only, this denotes whether a tweet is about a real disaster (1) or not (0)"
   ]
  },
  {
   "cell_type": "markdown",
   "id": "8758410a",
   "metadata": {
    "papermill": {
     "duration": 0.008009,
     "end_time": "2024-10-16T23:22:45.574291",
     "exception": false,
     "start_time": "2024-10-16T23:22:45.566282",
     "status": "completed"
    },
    "tags": []
   },
   "source": [
    "**You are predicting whether a given tweet is about a real disaster or not. If so, predict a 1. If not, predict a 0.**"
   ]
  },
  {
   "cell_type": "markdown",
   "id": "fc29efca",
   "metadata": {
    "papermill": {
     "duration": 0.008135,
     "end_time": "2024-10-16T23:22:45.590814",
     "exception": false,
     "start_time": "2024-10-16T23:22:45.582679",
     "status": "completed"
    },
    "tags": []
   },
   "source": [
    "# Project Background\n",
    "\n",
    "Natural disasters such as hurricanes, earthquakes, floods, and wildfires often generate massive amounts of data, especially on social media platforms like Twitter. These real-time data streams can be valuable sources of information for emergency responders, government agencies, and relief organizations. However, the challenge lies in efficiently identifying relevant, disaster-related information amidst a flood of irrelevant posts.\n",
    "\n",
    "This project focuses on the Natural Language Processing with Disaster Tweets Kaggle competition. The task is to classify whether a tweet is related to an actual disaster (real disaster-related information) or not (false positives or general chatter). Participants are provided with a dataset of tweets, some of which describe actual disasters and others that do not.\n",
    "\n",
    "### Why This Problem Matters\n",
    "\n",
    "During a disaster, the timely identification of relevant social media posts can make a significant difference in response times and resource allocation. A model capable of automatically filtering out irrelevant tweets and detecting those that provide critical information (e.g., locations in danger, calls for help) can assist authorities in focusing their efforts more efficiently. Additionally, automated systems based on natural language processing (NLP) can scale to handle vast volumes of data in real-time, which is vital when human resources are limited.\n",
    "\n",
    "### NLP and Text Classification\n",
    "\n",
    "NLP is a branch of artificial intelligence that deals with the interaction between computers and human language. Text classification, one of the core tasks in NLP, involves assigning categories or labels to text documents—in this case, determining if a tweet is related to a disaster. Solving this problem involves:\n",
    "\n",
    "- Preprocessing the text to remove noise (such as links, mentions, and special characters).\n",
    "- Feature extraction techniques such as TF-IDF or word embeddings (Word2Vec, GloVe) to convert text into numerical representations.\n",
    "- Modeling, where we use machine learning or deep learning models (such as RNNs, LSTMs) to make predictions based on the processed text data.\n",
    "### Challenges\n",
    "- Short text length: Tweets are short, and important context might be missing or implied, making it challenging for models to understand the complete meaning.\n",
    "- Imbalanced data: The dataset may have an uneven distribution of disaster-related and non-disaster-related tweets, requiring special techniques to handle imbalance.\n",
    "- Text variability: Tweets often contain slang, abbreviations, and varying sentence structures, making traditional text processing more difficult.\n",
    "\n",
    "By developing and refining a model for disaster tweet classification, this project aims to address these challenges and contribute to the efficient use of social media data in real-world disaster response efforts."
   ]
  },
  {
   "cell_type": "markdown",
   "id": "d33cec6a",
   "metadata": {
    "papermill": {
     "duration": 0.008048,
     "end_time": "2024-10-16T23:22:45.607358",
     "exception": false,
     "start_time": "2024-10-16T23:22:45.599310",
     "status": "completed"
    },
    "tags": []
   },
   "source": [
    "# **Importing the Essential Libraries, Metrics**"
   ]
  },
  {
   "cell_type": "code",
   "execution_count": 1,
   "id": "367fabc2",
   "metadata": {
    "execution": {
     "iopub.execute_input": "2024-10-16T23:22:45.626204Z",
     "iopub.status.busy": "2024-10-16T23:22:45.625769Z",
     "iopub.status.idle": "2024-10-16T23:23:00.901690Z",
     "shell.execute_reply": "2024-10-16T23:23:00.900570Z"
    },
    "papermill": {
     "duration": 15.288548,
     "end_time": "2024-10-16T23:23:00.904331",
     "exception": false,
     "start_time": "2024-10-16T23:22:45.615783",
     "status": "completed"
    },
    "tags": []
   },
   "outputs": [
    {
     "name": "stderr",
     "output_type": "stream",
     "text": [
      "/opt/conda/lib/python3.10/site-packages/nltk/twitter/__init__.py:20: UserWarning: The twython library has not been installed. Some functionality from the twitter package will not be available.\n",
      "  warnings.warn(\"The twython library has not been installed. \"\n",
      "2024-10-16 23:22:50.615440: E external/local_xla/xla/stream_executor/cuda/cuda_dnn.cc:9261] Unable to register cuDNN factory: Attempting to register factory for plugin cuDNN when one has already been registered\n",
      "2024-10-16 23:22:50.615563: E external/local_xla/xla/stream_executor/cuda/cuda_fft.cc:607] Unable to register cuFFT factory: Attempting to register factory for plugin cuFFT when one has already been registered\n",
      "2024-10-16 23:22:50.744605: E external/local_xla/xla/stream_executor/cuda/cuda_blas.cc:1515] Unable to register cuBLAS factory: Attempting to register factory for plugin cuBLAS when one has already been registered\n"
     ]
    }
   ],
   "source": [
    "import numpy as np\n",
    "import pandas as pd\n",
    "import matplotlib.pyplot as plt\n",
    "import string\n",
    "import re\n",
    "from collections import Counter\n",
    "from sklearn.feature_extraction.text import ENGLISH_STOP_WORDS\n",
    "import seaborn as sns\n",
    "\n",
    "from wordcloud import WordCloud\n",
    "from nltk.corpus import stopwords\n",
    "from textblob import Word, TextBlob\n",
    "from sklearn.model_selection import cross_val_score, train_test_split\n",
    "from sklearn.feature_extraction.text import TfidfVectorizer, CountVectorizer\n",
    "from sklearn.ensemble import RandomForestClassifier\n",
    "from sklearn.linear_model import LogisticRegression\n",
    "from sklearn.metrics import classification_report\n",
    "from nltk.sentiment import SentimentIntensityAnalyzer\n",
    "from warnings import filterwarnings\n",
    "import tensorflow as tf\n",
    "from tensorflow import keras\n",
    "from tensorflow.keras.preprocessing.text import Tokenizer\n",
    "from tensorflow.keras.preprocessing.sequence import pad_sequences\n",
    "from tensorflow.keras.metrics import F1Score\n",
    "from sklearn.metrics import f1_score\n",
    "from sklearn.metrics import confusion_matrix\n",
    "from sklearn.metrics import roc_curve, auc\n",
    "import keras_tuner as kt\n",
    "\n",
    "\n",
    "filterwarnings('ignore')\n",
    "pd.set_option('display.max_columns', None)\n",
    "pd.set_option('display.float_format', lambda x: '%.2f' % x)\n",
    "pd.set_option('display.width', 200)"
   ]
  },
  {
   "cell_type": "code",
   "execution_count": 2,
   "id": "4e703db9",
   "metadata": {
    "execution": {
     "iopub.execute_input": "2024-10-16T23:23:00.924527Z",
     "iopub.status.busy": "2024-10-16T23:23:00.923866Z",
     "iopub.status.idle": "2024-10-16T23:23:00.980370Z",
     "shell.execute_reply": "2024-10-16T23:23:00.979298Z"
    },
    "papermill": {
     "duration": 0.068835,
     "end_time": "2024-10-16T23:23:00.982806",
     "exception": false,
     "start_time": "2024-10-16T23:23:00.913971",
     "status": "completed"
    },
    "tags": []
   },
   "outputs": [
    {
     "data": {
      "text/plain": [
       "(7613, 5)"
      ]
     },
     "execution_count": 2,
     "metadata": {},
     "output_type": "execute_result"
    }
   ],
   "source": [
    "##Loading train datasets\n",
    "train = pd.read_csv(\"/kaggle/input/nlp-getting-started/train.csv\")\n",
    "train.shape"
   ]
  },
  {
   "cell_type": "code",
   "execution_count": 3,
   "id": "0ce92a08",
   "metadata": {
    "execution": {
     "iopub.execute_input": "2024-10-16T23:23:01.002508Z",
     "iopub.status.busy": "2024-10-16T23:23:01.001523Z",
     "iopub.status.idle": "2024-10-16T23:23:01.033864Z",
     "shell.execute_reply": "2024-10-16T23:23:01.032816Z"
    },
    "papermill": {
     "duration": 0.044862,
     "end_time": "2024-10-16T23:23:01.036291",
     "exception": false,
     "start_time": "2024-10-16T23:23:00.991429",
     "status": "completed"
    },
    "tags": []
   },
   "outputs": [
    {
     "data": {
      "text/plain": [
       "(3263, 4)"
      ]
     },
     "execution_count": 3,
     "metadata": {},
     "output_type": "execute_result"
    }
   ],
   "source": [
    "#Loading test datasets\n",
    "test = pd.read_csv(\"/kaggle/input/nlp-getting-started/test.csv\")\n",
    "test.shape"
   ]
  },
  {
   "cell_type": "code",
   "execution_count": 4,
   "id": "a1b9ec8c",
   "metadata": {
    "execution": {
     "iopub.execute_input": "2024-10-16T23:23:01.056449Z",
     "iopub.status.busy": "2024-10-16T23:23:01.055386Z",
     "iopub.status.idle": "2024-10-16T23:23:01.073970Z",
     "shell.execute_reply": "2024-10-16T23:23:01.072846Z"
    },
    "papermill": {
     "duration": 0.031082,
     "end_time": "2024-10-16T23:23:01.076281",
     "exception": false,
     "start_time": "2024-10-16T23:23:01.045199",
     "status": "completed"
    },
    "tags": []
   },
   "outputs": [
    {
     "data": {
      "text/html": [
       "<div>\n",
       "<style scoped>\n",
       "    .dataframe tbody tr th:only-of-type {\n",
       "        vertical-align: middle;\n",
       "    }\n",
       "\n",
       "    .dataframe tbody tr th {\n",
       "        vertical-align: top;\n",
       "    }\n",
       "\n",
       "    .dataframe thead th {\n",
       "        text-align: right;\n",
       "    }\n",
       "</style>\n",
       "<table border=\"1\" class=\"dataframe\">\n",
       "  <thead>\n",
       "    <tr style=\"text-align: right;\">\n",
       "      <th></th>\n",
       "      <th>id</th>\n",
       "      <th>keyword</th>\n",
       "      <th>location</th>\n",
       "      <th>text</th>\n",
       "      <th>target</th>\n",
       "    </tr>\n",
       "  </thead>\n",
       "  <tbody>\n",
       "    <tr>\n",
       "      <th>0</th>\n",
       "      <td>1</td>\n",
       "      <td>NaN</td>\n",
       "      <td>NaN</td>\n",
       "      <td>Our Deeds are the Reason of this #earthquake M...</td>\n",
       "      <td>1</td>\n",
       "    </tr>\n",
       "    <tr>\n",
       "      <th>1</th>\n",
       "      <td>4</td>\n",
       "      <td>NaN</td>\n",
       "      <td>NaN</td>\n",
       "      <td>Forest fire near La Ronge Sask. Canada</td>\n",
       "      <td>1</td>\n",
       "    </tr>\n",
       "    <tr>\n",
       "      <th>2</th>\n",
       "      <td>5</td>\n",
       "      <td>NaN</td>\n",
       "      <td>NaN</td>\n",
       "      <td>All residents asked to 'shelter in place' are ...</td>\n",
       "      <td>1</td>\n",
       "    </tr>\n",
       "    <tr>\n",
       "      <th>3</th>\n",
       "      <td>6</td>\n",
       "      <td>NaN</td>\n",
       "      <td>NaN</td>\n",
       "      <td>13,000 people receive #wildfires evacuation or...</td>\n",
       "      <td>1</td>\n",
       "    </tr>\n",
       "    <tr>\n",
       "      <th>4</th>\n",
       "      <td>7</td>\n",
       "      <td>NaN</td>\n",
       "      <td>NaN</td>\n",
       "      <td>Just got sent this photo from Ruby #Alaska as ...</td>\n",
       "      <td>1</td>\n",
       "    </tr>\n",
       "  </tbody>\n",
       "</table>\n",
       "</div>"
      ],
      "text/plain": [
       "   id keyword location                                               text  target\n",
       "0   1     NaN      NaN  Our Deeds are the Reason of this #earthquake M...       1\n",
       "1   4     NaN      NaN             Forest fire near La Ronge Sask. Canada       1\n",
       "2   5     NaN      NaN  All residents asked to 'shelter in place' are ...       1\n",
       "3   6     NaN      NaN  13,000 people receive #wildfires evacuation or...       1\n",
       "4   7     NaN      NaN  Just got sent this photo from Ruby #Alaska as ...       1"
      ]
     },
     "execution_count": 4,
     "metadata": {},
     "output_type": "execute_result"
    }
   ],
   "source": [
    "train.head()"
   ]
  },
  {
   "cell_type": "code",
   "execution_count": 5,
   "id": "5bca5467",
   "metadata": {
    "execution": {
     "iopub.execute_input": "2024-10-16T23:23:01.096522Z",
     "iopub.status.busy": "2024-10-16T23:23:01.095567Z",
     "iopub.status.idle": "2024-10-16T23:23:01.107060Z",
     "shell.execute_reply": "2024-10-16T23:23:01.105882Z"
    },
    "papermill": {
     "duration": 0.024012,
     "end_time": "2024-10-16T23:23:01.109299",
     "exception": false,
     "start_time": "2024-10-16T23:23:01.085287",
     "status": "completed"
    },
    "tags": []
   },
   "outputs": [
    {
     "data": {
      "text/html": [
       "<div>\n",
       "<style scoped>\n",
       "    .dataframe tbody tr th:only-of-type {\n",
       "        vertical-align: middle;\n",
       "    }\n",
       "\n",
       "    .dataframe tbody tr th {\n",
       "        vertical-align: top;\n",
       "    }\n",
       "\n",
       "    .dataframe thead th {\n",
       "        text-align: right;\n",
       "    }\n",
       "</style>\n",
       "<table border=\"1\" class=\"dataframe\">\n",
       "  <thead>\n",
       "    <tr style=\"text-align: right;\">\n",
       "      <th></th>\n",
       "      <th>id</th>\n",
       "      <th>keyword</th>\n",
       "      <th>location</th>\n",
       "      <th>text</th>\n",
       "    </tr>\n",
       "  </thead>\n",
       "  <tbody>\n",
       "    <tr>\n",
       "      <th>0</th>\n",
       "      <td>0</td>\n",
       "      <td>NaN</td>\n",
       "      <td>NaN</td>\n",
       "      <td>Just happened a terrible car crash</td>\n",
       "    </tr>\n",
       "    <tr>\n",
       "      <th>1</th>\n",
       "      <td>2</td>\n",
       "      <td>NaN</td>\n",
       "      <td>NaN</td>\n",
       "      <td>Heard about #earthquake is different cities, s...</td>\n",
       "    </tr>\n",
       "    <tr>\n",
       "      <th>2</th>\n",
       "      <td>3</td>\n",
       "      <td>NaN</td>\n",
       "      <td>NaN</td>\n",
       "      <td>there is a forest fire at spot pond, geese are...</td>\n",
       "    </tr>\n",
       "    <tr>\n",
       "      <th>3</th>\n",
       "      <td>9</td>\n",
       "      <td>NaN</td>\n",
       "      <td>NaN</td>\n",
       "      <td>Apocalypse lighting. #Spokane #wildfires</td>\n",
       "    </tr>\n",
       "    <tr>\n",
       "      <th>4</th>\n",
       "      <td>11</td>\n",
       "      <td>NaN</td>\n",
       "      <td>NaN</td>\n",
       "      <td>Typhoon Soudelor kills 28 in China and Taiwan</td>\n",
       "    </tr>\n",
       "  </tbody>\n",
       "</table>\n",
       "</div>"
      ],
      "text/plain": [
       "   id keyword location                                               text\n",
       "0   0     NaN      NaN                 Just happened a terrible car crash\n",
       "1   2     NaN      NaN  Heard about #earthquake is different cities, s...\n",
       "2   3     NaN      NaN  there is a forest fire at spot pond, geese are...\n",
       "3   9     NaN      NaN           Apocalypse lighting. #Spokane #wildfires\n",
       "4  11     NaN      NaN      Typhoon Soudelor kills 28 in China and Taiwan"
      ]
     },
     "execution_count": 5,
     "metadata": {},
     "output_type": "execute_result"
    }
   ],
   "source": [
    "test.head()"
   ]
  },
  {
   "cell_type": "markdown",
   "id": "ed1766ad",
   "metadata": {
    "papermill": {
     "duration": 0.009176,
     "end_time": "2024-10-16T23:23:01.127545",
     "exception": false,
     "start_time": "2024-10-16T23:23:01.118369",
     "status": "completed"
    },
    "tags": []
   },
   "source": [
    "#### Here are my plots to further analyze this data:"
   ]
  },
  {
   "cell_type": "code",
   "execution_count": 6,
   "id": "135fdbf8",
   "metadata": {
    "execution": {
     "iopub.execute_input": "2024-10-16T23:23:01.148248Z",
     "iopub.status.busy": "2024-10-16T23:23:01.147484Z",
     "iopub.status.idle": "2024-10-16T23:23:01.744270Z",
     "shell.execute_reply": "2024-10-16T23:23:01.743236Z"
    },
    "papermill": {
     "duration": 0.609944,
     "end_time": "2024-10-16T23:23:01.746825",
     "exception": false,
     "start_time": "2024-10-16T23:23:01.136881",
     "status": "completed"
    },
    "tags": []
   },
   "outputs": [
    {
     "data": {
      "image/png": "[encoded data removed]",
      "text/plain": [
       "<Figure size 1400x600 with 2 Axes>"
      ]
     },
     "metadata": {},
     "output_type": "display_data"
    }
   ],
   "source": [
    "def clean_text(text):\n",
    "    text = text.lower()  # Convert to lowercase\n",
    "    text = re.sub(r'http\\S+', '', text)  # Remove URLs\n",
    "    text = re.sub(r'@\\w+', '', text)  # Remove mentions\n",
    "    text = text.translate(str.maketrans('', '', string.punctuation))  # Remove punctuation\n",
    "    return text\n",
    "\n",
    "train['clean_text'] = train['text'].apply(clean_text)\n",
    "\n",
    "# Tokenize and count words\n",
    "def word_frequency(text_series):\n",
    "    words = ' '.join(text_series).split()\n",
    "    words = [word for word in words if word not in ENGLISH_STOP_WORDS]  # Remove stop words\n",
    "    word_counts = Counter(words)\n",
    "    return word_counts\n",
    "\n",
    "# Get most common words for disaster and non-disaster tweets\n",
    "disaster_words = word_frequency(train[train['target'] == 1]['clean_text'])\n",
    "nondisaster_words = word_frequency(train[train['target'] == 0]['clean_text'])\n",
    "\n",
    "# Convert to DataFrames for plotting\n",
    "disaster_df = pd.DataFrame(disaster_words.most_common(10), columns=['Word', 'Frequency'])\n",
    "nondisaster_df = pd.DataFrame(nondisaster_words.most_common(10), columns=['Word', 'Frequency'])\n",
    "\n",
    "# Plot the word frequency\n",
    "fig, axs = plt.subplots(1, 2, figsize=(14, 6))\n",
    "fig.suptitle('Top 10 Words in Disaster and Non-Disaster Tweets')\n",
    "\n",
    "axs[0].barh(disaster_df['Word'], disaster_df['Frequency'], color='red')\n",
    "axs[0].set_title('Disaster Tweets')\n",
    "axs[0].invert_yaxis()\n",
    "\n",
    "axs[1].barh(nondisaster_df['Word'], nondisaster_df['Frequency'], color='blue')\n",
    "axs[1].set_title('Non-Disaster Tweets')\n",
    "axs[1].invert_yaxis()\n",
    "\n",
    "plt.show()"
   ]
  },
  {
   "cell_type": "code",
   "execution_count": 7,
   "id": "e863e97b",
   "metadata": {
    "execution": {
     "iopub.execute_input": "2024-10-16T23:23:01.768508Z",
     "iopub.status.busy": "2024-10-16T23:23:01.768130Z",
     "iopub.status.idle": "2024-10-16T23:23:02.150320Z",
     "shell.execute_reply": "2024-10-16T23:23:02.149180Z"
    },
    "papermill": {
     "duration": 0.396434,
     "end_time": "2024-10-16T23:23:02.153231",
     "exception": false,
     "start_time": "2024-10-16T23:23:01.756797",
     "status": "completed"
    },
    "tags": []
   },
   "outputs": [
    {
     "data": {
      "image/png": "[encoded data removed]",
      "text/plain": [
       "<Figure size 1200x600 with 2 Axes>"
      ]
     },
     "metadata": {},
     "output_type": "display_data"
    }
   ],
   "source": [
    "def special_char_frequency(text_series, special_chars):\n",
    "    char_counts = Counter()\n",
    "    for text in text_series:\n",
    "        for char in special_chars:\n",
    "            char_counts[char] += text.count(char)\n",
    "    return char_counts\n",
    "\n",
    "# List of special characters to track\n",
    "special_chars = [':)', ':(', '!', '?', '#']\n",
    "\n",
    "# Count special characters in disaster and non-disaster tweets\n",
    "disaster_special_chars = special_char_frequency(train[train['target'] == 1]['text'], special_chars)\n",
    "nondisaster_special_chars = special_char_frequency(train[train['target'] == 0]['text'], special_chars)\n",
    "\n",
    "# Convert to DataFrames for plotting\n",
    "disaster_special_df = pd.DataFrame(disaster_special_chars.items(), columns=['Character', 'Frequency'])\n",
    "nondisaster_special_df = pd.DataFrame(nondisaster_special_chars.items(), columns=['Character', 'Frequency'])\n",
    "\n",
    "# Plot special character distribution\n",
    "fig, axs = plt.subplots(1, 2, figsize=(12, 6))\n",
    "fig.suptitle('Special Character Frequency in Tweets')\n",
    "\n",
    "axs[0].barh(disaster_special_df['Character'], disaster_special_df['Frequency'], color='red')\n",
    "axs[0].set_title('Disaster Tweets')\n",
    "axs[0].invert_yaxis()\n",
    "\n",
    "axs[1].barh(nondisaster_special_df['Character'], nondisaster_special_df['Frequency'], color='blue')\n",
    "axs[1].set_title('Non-Disaster Tweets')\n",
    "axs[1].invert_yaxis()\n",
    "\n",
    "plt.show()"
   ]
  },
  {
   "cell_type": "code",
   "execution_count": 8,
   "id": "f8b551ae",
   "metadata": {
    "execution": {
     "iopub.execute_input": "2024-10-16T23:23:02.176246Z",
     "iopub.status.busy": "2024-10-16T23:23:02.175837Z",
     "iopub.status.idle": "2024-10-16T23:23:02.419604Z",
     "shell.execute_reply": "2024-10-16T23:23:02.418504Z"
    },
    "papermill": {
     "duration": 0.258425,
     "end_time": "2024-10-16T23:23:02.422000",
     "exception": false,
     "start_time": "2024-10-16T23:23:02.163575",
     "status": "completed"
    },
    "tags": []
   },
   "outputs": [
    {
     "data": {
      "image/png": "[encoded data removed]",
      "text/plain": [
       "<Figure size 1000x600 with 1 Axes>"
      ]
     },
     "metadata": {},
     "output_type": "display_data"
    }
   ],
   "source": [
    "# Calculate tweet lengths\n",
    "train['tweet_length'] = train['text'].apply(len)\n",
    "\n",
    "# Create the boxplot\n",
    "plt.figure(figsize=(10, 6))\n",
    "sns.boxplot(x='target', y='tweet_length', data=train, palette=[\"blue\", \"red\"])\n",
    "plt.title('Distribution of Tweet Length by Target (Disaster or Non-Disaster)')\n",
    "plt.xlabel('Target (0 = Non-Disaster, 1 = Disaster)')\n",
    "plt.ylabel('Tweet Length (Number of Characters)')\n",
    "plt.xticks([0, 1], ['Non-Disaster', 'Disaster'])\n",
    "plt.show()"
   ]
  },
  {
   "cell_type": "markdown",
   "id": "7d3be3ee",
   "metadata": {
    "papermill": {
     "duration": 0.010769,
     "end_time": "2024-10-16T23:23:02.443910",
     "exception": false,
     "start_time": "2024-10-16T23:23:02.433141",
     "status": "completed"
    },
    "tags": []
   },
   "source": [
    "# **Discoveries:**\n",
    "\n",
    "- 1:\n",
    "\n",
    "Words like 'im' or 'love' show up a lot in the non-disaster tweets while grim words like 'disaster' and 'suicide' show up a lot more in the disaster tweets\n",
    "- 2:\n",
    "\n",
    "Seems like we are getting a similar number of emoticons and emphasis punctuation or hashtags in both disaster and non-disaster tweets.\n",
    "- 3:\n",
    "\n",
    "Seems like there is on average more words in disaster tweets and a much smaller range of length in disaster vs non-disaster tweets.\n",
    "\n",
    "## **Plan of Analysis:**\n",
    "1. Text Preprocessing:\n",
    "- Text Cleaning:\n",
    "    - Remove special characters, URLs, mentions, and punctuation.\n",
    "    - Normalize the text to lowercase to ensure consistency.\n",
    "2. Tokenization:\n",
    "- Split the text into individual words (tokens) to enable word-level analysis.\n",
    "- Stop Words Removal:\n",
    "    - Filter out common stop words (e.g., \"the\", \"is\", \"and\") that do not contribute meaningfully to the classification task.\n",
    "- Handling Special Characters:\n",
    "    - Retain useful special characters like \"!\" and emoticons (\":)\", \":(\"), as these may provide valuable signals for classification.\n",
    "2. Feature Extraction:\n",
    "- TF-IDF (Term Frequency-Inverse Document Frequency):\n",
    "    - Convert the cleaned text into numerical features using TF-IDF, which captures the importance of each word in relation to the entire dataset.\n",
    "    - This will help highlight disaster-specific terms (e.g., \"emergency\", \"fire\") that are more meaningful in the context of disaster-related tweets.\n",
    "- Special Character Features:\n",
    "    - Create additional features based on the frequency of special characters like \"!\", \"?\", \":)\", \":(\", as these may help differentiate between disaster and non-disaster tweets.\n",
    "3. Model Selection:\n",
    "- Recurrent Neural Network (RNN) or LSTM:\n",
    "    - Implement an LSTM (Long Short-Term Memory) network, as it can capture the sequential nature of text data and longer-term dependencies.\n",
    "    - Use word embeddings (e.g., GloVe or Word2Vec) as inputs to the LSTM to better capture the semantic meaning of words.\n",
    "4. Hyperparameter Tuning:\n",
    "- Use Grid Search or Random Search to tune important hyperparameters, such as the number of LSTM units, learning rate, dropout rate, and the max depth for tree-based models (if used).\n",
    "- Adjust the TF-IDF parameters, such as the maximum number of features or the n-gram range (e.g., using bigrams or trigrams).\n",
    "5. Model Evaluation:\n",
    "- F1 Score: Since the dataset is imbalanced, use F1 score as the primary evaluation metric to balance precision and recall.\n",
    "- Cross-Validation: Perform k-fold cross-validation to ensure the model generalizes well to unseen data.\n",
    "- Confusion Matrix: Analyze the confusion matrix to understand how well the model distinguishes between true positives, false positives, and false negatives.\n",
    "- ROC Curve: Plot the ROC curve and compute the AUC (Area Under the Curve) to evaluate the model’s performance at different thresholds.\n"
   ]
  },
  {
   "cell_type": "markdown",
   "id": "c8deaa72",
   "metadata": {
    "papermill": {
     "duration": 0.010814,
     "end_time": "2024-10-16T23:23:02.465709",
     "exception": false,
     "start_time": "2024-10-16T23:23:02.454895",
     "status": "completed"
    },
    "tags": []
   },
   "source": [
    "# **Modeling: Sentiment Analysis**"
   ]
  },
  {
   "cell_type": "code",
   "execution_count": 9,
   "id": "381337bc",
   "metadata": {
    "execution": {
     "iopub.execute_input": "2024-10-16T23:23:02.489947Z",
     "iopub.status.busy": "2024-10-16T23:23:02.488980Z",
     "iopub.status.idle": "2024-10-16T23:23:02.509626Z",
     "shell.execute_reply": "2024-10-16T23:23:02.508444Z"
    },
    "papermill": {
     "duration": 0.035575,
     "end_time": "2024-10-16T23:23:02.512273",
     "exception": false,
     "start_time": "2024-10-16T23:23:02.476698",
     "status": "completed"
    },
    "tags": []
   },
   "outputs": [],
   "source": [
    "sia = SentimentIntensityAnalyzer()"
   ]
  },
  {
   "cell_type": "code",
   "execution_count": 10,
   "id": "fe9b18d5",
   "metadata": {
    "execution": {
     "iopub.execute_input": "2024-10-16T23:23:02.536884Z",
     "iopub.status.busy": "2024-10-16T23:23:02.535888Z",
     "iopub.status.idle": "2024-10-16T23:23:05.077088Z",
     "shell.execute_reply": "2024-10-16T23:23:05.075985Z"
    },
    "papermill": {
     "duration": 2.556326,
     "end_time": "2024-10-16T23:23:05.079644",
     "exception": false,
     "start_time": "2024-10-16T23:23:02.523318",
     "status": "completed"
    },
    "tags": []
   },
   "outputs": [],
   "source": [
    "train['sentiment_score'] = train['text'].apply(lambda x: sia.polarity_scores(x)[\"compound\"])\n",
    "test['sentiment_score'] = test['text'].apply(lambda x: sia.polarity_scores(x)[\"compound\"])"
   ]
  },
  {
   "cell_type": "code",
   "execution_count": 11,
   "id": "aeb41f52",
   "metadata": {
    "execution": {
     "iopub.execute_input": "2024-10-16T23:23:05.103686Z",
     "iopub.status.busy": "2024-10-16T23:23:05.102758Z",
     "iopub.status.idle": "2024-10-16T23:23:05.115068Z",
     "shell.execute_reply": "2024-10-16T23:23:05.114073Z"
    },
    "papermill": {
     "duration": 0.026605,
     "end_time": "2024-10-16T23:23:05.117197",
     "exception": false,
     "start_time": "2024-10-16T23:23:05.090592",
     "status": "completed"
    },
    "tags": []
   },
   "outputs": [
    {
     "data": {
      "text/html": [
       "<div>\n",
       "<style scoped>\n",
       "    .dataframe tbody tr th:only-of-type {\n",
       "        vertical-align: middle;\n",
       "    }\n",
       "\n",
       "    .dataframe tbody tr th {\n",
       "        vertical-align: top;\n",
       "    }\n",
       "\n",
       "    .dataframe thead th {\n",
       "        text-align: right;\n",
       "    }\n",
       "</style>\n",
       "<table border=\"1\" class=\"dataframe\">\n",
       "  <thead>\n",
       "    <tr style=\"text-align: right;\">\n",
       "      <th></th>\n",
       "      <th>id</th>\n",
       "      <th>keyword</th>\n",
       "      <th>location</th>\n",
       "      <th>text</th>\n",
       "      <th>target</th>\n",
       "      <th>clean_text</th>\n",
       "      <th>tweet_length</th>\n",
       "      <th>sentiment_score</th>\n",
       "    </tr>\n",
       "  </thead>\n",
       "  <tbody>\n",
       "    <tr>\n",
       "      <th>0</th>\n",
       "      <td>1</td>\n",
       "      <td>NaN</td>\n",
       "      <td>NaN</td>\n",
       "      <td>Our Deeds are the Reason of this #earthquake M...</td>\n",
       "      <td>1</td>\n",
       "      <td>our deeds are the reason of this earthquake ma...</td>\n",
       "      <td>69</td>\n",
       "      <td>0.27</td>\n",
       "    </tr>\n",
       "    <tr>\n",
       "      <th>1</th>\n",
       "      <td>4</td>\n",
       "      <td>NaN</td>\n",
       "      <td>NaN</td>\n",
       "      <td>Forest fire near La Ronge Sask. Canada</td>\n",
       "      <td>1</td>\n",
       "      <td>forest fire near la ronge sask canada</td>\n",
       "      <td>38</td>\n",
       "      <td>-0.34</td>\n",
       "    </tr>\n",
       "    <tr>\n",
       "      <th>2</th>\n",
       "      <td>5</td>\n",
       "      <td>NaN</td>\n",
       "      <td>NaN</td>\n",
       "      <td>All residents asked to 'shelter in place' are ...</td>\n",
       "      <td>1</td>\n",
       "      <td>all residents asked to shelter in place are be...</td>\n",
       "      <td>133</td>\n",
       "      <td>-0.30</td>\n",
       "    </tr>\n",
       "    <tr>\n",
       "      <th>3</th>\n",
       "      <td>6</td>\n",
       "      <td>NaN</td>\n",
       "      <td>NaN</td>\n",
       "      <td>13,000 people receive #wildfires evacuation or...</td>\n",
       "      <td>1</td>\n",
       "      <td>13000 people receive wildfires evacuation orde...</td>\n",
       "      <td>65</td>\n",
       "      <td>0.00</td>\n",
       "    </tr>\n",
       "    <tr>\n",
       "      <th>4</th>\n",
       "      <td>7</td>\n",
       "      <td>NaN</td>\n",
       "      <td>NaN</td>\n",
       "      <td>Just got sent this photo from Ruby #Alaska as ...</td>\n",
       "      <td>1</td>\n",
       "      <td>just got sent this photo from ruby alaska as s...</td>\n",
       "      <td>88</td>\n",
       "      <td>0.00</td>\n",
       "    </tr>\n",
       "  </tbody>\n",
       "</table>\n",
       "</div>"
      ],
      "text/plain": [
       "   id keyword location                                               text  target                                         clean_text  tweet_length  sentiment_score\n",
       "0   1     NaN      NaN  Our Deeds are the Reason of this #earthquake M...       1  our deeds are the reason of this earthquake ma...            69             0.27\n",
       "1   4     NaN      NaN             Forest fire near La Ronge Sask. Canada       1              forest fire near la ronge sask canada            38            -0.34\n",
       "2   5     NaN      NaN  All residents asked to 'shelter in place' are ...       1  all residents asked to shelter in place are be...           133            -0.30\n",
       "3   6     NaN      NaN  13,000 people receive #wildfires evacuation or...       1  13000 people receive wildfires evacuation orde...            65             0.00\n",
       "4   7     NaN      NaN  Just got sent this photo from Ruby #Alaska as ...       1  just got sent this photo from ruby alaska as s...            88             0.00"
      ]
     },
     "execution_count": 11,
     "metadata": {},
     "output_type": "execute_result"
    }
   ],
   "source": [
    "train.head()"
   ]
  },
  {
   "cell_type": "code",
   "execution_count": 12,
   "id": "4eb032ac",
   "metadata": {
    "execution": {
     "iopub.execute_input": "2024-10-16T23:23:05.141202Z",
     "iopub.status.busy": "2024-10-16T23:23:05.140795Z",
     "iopub.status.idle": "2024-10-16T23:23:05.614248Z",
     "shell.execute_reply": "2024-10-16T23:23:05.613068Z"
    },
    "papermill": {
     "duration": 0.488221,
     "end_time": "2024-10-16T23:23:05.616610",
     "exception": false,
     "start_time": "2024-10-16T23:23:05.128389",
     "status": "completed"
    },
    "tags": []
   },
   "outputs": [
    {
     "name": "stdout",
     "output_type": "stream",
     "text": [
      "(7613, 34) (3263, 34)\n"
     ]
    }
   ],
   "source": [
    "tokenizer = Tokenizer(num_words=3000, oov_token=\"<OOV>\")\n",
    "tokenizer.fit_on_texts(train[\"text\"])\n",
    "\n",
    "train_sequences = tokenizer.texts_to_sequences(train[\"text\"])\n",
    "train_padded = pad_sequences(train_sequences, padding='post')\n",
    "\n",
    "test_sequences = tokenizer.texts_to_sequences(test[\"text\"])\n",
    "test_padded = pad_sequences(test_sequences, padding='post', maxlen=train_padded.shape[1])\n",
    "\n",
    "train_sentiment = np.array(train['sentiment_score']).reshape(-1, 1)\n",
    "test_sentiment = np.array(test['sentiment_score']).reshape(-1, 1)\n",
    "\n",
    "X_train_combined = np.hstack((train_padded, train_sentiment))\n",
    "X_test_combined = np.hstack((test_padded, test_sentiment))\n",
    "\n",
    "# Check the shape of combined input\n",
    "print(X_train_combined.shape, X_test_combined.shape)"
   ]
  },
  {
   "cell_type": "code",
   "execution_count": 13,
   "id": "42a02f67",
   "metadata": {
    "execution": {
     "iopub.execute_input": "2024-10-16T23:23:05.640697Z",
     "iopub.status.busy": "2024-10-16T23:23:05.640315Z",
     "iopub.status.idle": "2024-10-16T23:23:05.651096Z",
     "shell.execute_reply": "2024-10-16T23:23:05.649855Z"
    },
    "papermill": {
     "duration": 0.025882,
     "end_time": "2024-10-16T23:23:05.653686",
     "exception": false,
     "start_time": "2024-10-16T23:23:05.627804",
     "status": "completed"
    },
    "tags": []
   },
   "outputs": [],
   "source": [
    "y_train = train[\"target\"]\n",
    "\n",
    "# Train-validation split\n",
    "X_train_final, X_val_final, y_train_final, y_val_final = train_test_split(X_train_combined, y_train, test_size=0.2, random_state=42)"
   ]
  },
  {
   "cell_type": "code",
   "execution_count": 14,
   "id": "873cb651",
   "metadata": {
    "execution": {
     "iopub.execute_input": "2024-10-16T23:23:05.678066Z",
     "iopub.status.busy": "2024-10-16T23:23:05.677642Z",
     "iopub.status.idle": "2024-10-16T23:23:05.682830Z",
     "shell.execute_reply": "2024-10-16T23:23:05.681795Z"
    },
    "papermill": {
     "duration": 0.02015,
     "end_time": "2024-10-16T23:23:05.685202",
     "exception": false,
     "start_time": "2024-10-16T23:23:05.665052",
     "status": "completed"
    },
    "tags": []
   },
   "outputs": [
    {
     "name": "stdout",
     "output_type": "stream",
     "text": [
      "(6090, 34) (1523, 34)\n"
     ]
    }
   ],
   "source": [
    "print(X_train_final.shape, X_val_final.shape)"
   ]
  },
  {
   "cell_type": "markdown",
   "id": "5f8f05b5",
   "metadata": {
    "papermill": {
     "duration": 0.011138,
     "end_time": "2024-10-16T23:23:05.707558",
     "exception": false,
     "start_time": "2024-10-16T23:23:05.696420",
     "status": "completed"
    },
    "tags": []
   },
   "source": [
    "### **Key Points:**\n",
    "- **Sentiment Analysis (SIA):** This step adds a sentiment dimension to the tweet data by evaluating whether the sentiment is positive, negative, or neutral. Although the sentiment might not be directly related to disaster classification, it can be an additional feature that enhances model performance.\n",
    "\n",
    "- **Tokenizer:** Tokenization is the process of converting text into numerical data. Each word or symbol in the text is replaced by a unique integer (or token), which allows us to represent text in a format that machine learning models can understand. This method converts the text into sequences of word indices based on the frequency of words in the dataset (with a vocabulary size of 3000). This is essential for models like LSTM that are designed to capture the sequential patterns in the data\n",
    "\n",
    "- **Padding:** Ensures all sequences have the same length by adding padding at the end. This is important because the LSTM model expects inputs of uniform size.\n",
    "\n",
    "- **Train-Validation Split:** Split the data into an 80% training set and a 20% validation set to evaluate the model’s performance during training."
   ]
  },
  {
   "cell_type": "markdown",
   "id": "76237fd9",
   "metadata": {
    "papermill": {
     "duration": 0.011049,
     "end_time": "2024-10-16T23:23:05.729880",
     "exception": false,
     "start_time": "2024-10-16T23:23:05.718831",
     "status": "completed"
    },
    "tags": []
   },
   "source": [
    "# **RNN Modeling**"
   ]
  },
  {
   "cell_type": "code",
   "execution_count": 15,
   "id": "3edcd4d0",
   "metadata": {
    "execution": {
     "iopub.execute_input": "2024-10-16T23:23:05.754304Z",
     "iopub.status.busy": "2024-10-16T23:23:05.753882Z",
     "iopub.status.idle": "2024-10-16T23:23:06.093234Z",
     "shell.execute_reply": "2024-10-16T23:23:06.092155Z"
    },
    "papermill": {
     "duration": 0.354624,
     "end_time": "2024-10-16T23:23:06.095906",
     "exception": false,
     "start_time": "2024-10-16T23:23:05.741282",
     "status": "completed"
    },
    "tags": []
   },
   "outputs": [],
   "source": [
    "model = tf.keras.Sequential([\n",
    "    tf.keras.layers.Embedding(3000, 33),\n",
    "    tf.keras.layers.Bidirectional(tf.keras.layers.LSTM(33, return_sequences = True)),\n",
    "    tf.keras.layers.Dropout(0.2),\n",
    "    tf.keras.layers.Bidirectional(tf.keras.layers.LSTM(33, return_sequences = True)),\n",
    "    tf.keras.layers.Dropout(0.2),\n",
    "    tf.keras.layers.Bidirectional(tf.keras.layers.LSTM(33)),\n",
    "    tf.keras.layers.Dense(1, activation='sigmoid')\n",
    "])\n",
    "model.compile(loss='binary_crossentropy',optimizer='adam',metrics=[F1Score(threshold = 0.5)])"
   ]
  },
  {
   "cell_type": "code",
   "execution_count": 16,
   "id": "18f67dc7",
   "metadata": {
    "execution": {
     "iopub.execute_input": "2024-10-16T23:23:06.121838Z",
     "iopub.status.busy": "2024-10-16T23:23:06.121109Z",
     "iopub.status.idle": "2024-10-16T23:23:06.143873Z",
     "shell.execute_reply": "2024-10-16T23:23:06.142783Z"
    },
    "papermill": {
     "duration": 0.038416,
     "end_time": "2024-10-16T23:23:06.146118",
     "exception": false,
     "start_time": "2024-10-16T23:23:06.107702",
     "status": "completed"
    },
    "tags": []
   },
   "outputs": [
    {
     "data": {
      "text/html": [
       "<pre style=\"white-space:pre;overflow-x:auto;line-height:normal;font-family:Menlo,'DejaVu Sans Mono',consolas,'Courier New',monospace\"><span style=\"font-weight: bold\">Model: \"sequential\"</span>\n",
       "</pre>\n"
      ],
      "text/plain": [
       "\u001b[1mModel: \"sequential\"\u001b[0m\n"
      ]
     },
     "metadata": {},
     "output_type": "display_data"
    },
    {
     "data": {
      "text/html": [
       "<pre style=\"white-space:pre;overflow-x:auto;line-height:normal;font-family:Menlo,'DejaVu Sans Mono',consolas,'Courier New',monospace\">┏━━━━━━━━━━━━━━━━━━━━━━━━━━━━━━━━━┳━━━━━━━━━━━━━━━━━━━━━━━━┳━━━━━━━━━━━━━━━┓\n",
       "┃<span style=\"font-weight: bold\"> Layer (type)                    </span>┃<span style=\"font-weight: bold\"> Output Shape           </span>┃<span style=\"font-weight: bold\">       Param # </span>┃\n",
       "┡━━━━━━━━━━━━━━━━━━━━━━━━━━━━━━━━━╇━━━━━━━━━━━━━━━━━━━━━━━━╇━━━━━━━━━━━━━━━┩\n",
       "│ embedding (<span style=\"color: #0087ff; text-decoration-color: #0087ff\">Embedding</span>)           │ ?                      │   <span style=\"color: #00af00; text-decoration-color: #00af00\">0</span> (unbuilt) │\n",
       "├─────────────────────────────────┼────────────────────────┼───────────────┤\n",
       "│ bidirectional (<span style=\"color: #0087ff; text-decoration-color: #0087ff\">Bidirectional</span>)   │ ?                      │   <span style=\"color: #00af00; text-decoration-color: #00af00\">0</span> (unbuilt) │\n",
       "├─────────────────────────────────┼────────────────────────┼───────────────┤\n",
       "│ dropout (<span style=\"color: #0087ff; text-decoration-color: #0087ff\">Dropout</span>)               │ ?                      │             <span style=\"color: #00af00; text-decoration-color: #00af00\">0</span> │\n",
       "├─────────────────────────────────┼────────────────────────┼───────────────┤\n",
       "│ bidirectional_1 (<span style=\"color: #0087ff; text-decoration-color: #0087ff\">Bidirectional</span>) │ ?                      │   <span style=\"color: #00af00; text-decoration-color: #00af00\">0</span> (unbuilt) │\n",
       "├─────────────────────────────────┼────────────────────────┼───────────────┤\n",
       "│ dropout_1 (<span style=\"color: #0087ff; text-decoration-color: #0087ff\">Dropout</span>)             │ ?                      │             <span style=\"color: #00af00; text-decoration-color: #00af00\">0</span> │\n",
       "├─────────────────────────────────┼────────────────────────┼───────────────┤\n",
       "│ bidirectional_2 (<span style=\"color: #0087ff; text-decoration-color: #0087ff\">Bidirectional</span>) │ ?                      │   <span style=\"color: #00af00; text-decoration-color: #00af00\">0</span> (unbuilt) │\n",
       "├─────────────────────────────────┼────────────────────────┼───────────────┤\n",
       "│ dense (<span style=\"color: #0087ff; text-decoration-color: #0087ff\">Dense</span>)                   │ ?                      │   <span style=\"color: #00af00; text-decoration-color: #00af00\">0</span> (unbuilt) │\n",
       "└─────────────────────────────────┴────────────────────────┴───────────────┘\n",
       "</pre>\n"
      ],
      "text/plain": [
       "┏━━━━━━━━━━━━━━━━━━━━━━━━━━━━━━━━━┳━━━━━━━━━━━━━━━━━━━━━━━━┳━━━━━━━━━━━━━━━┓\n",
       "┃\u001b[1m \u001b[0m\u001b[1mLayer (type)                   \u001b[0m\u001b[1m \u001b[0m┃\u001b[1m \u001b[0m\u001b[1mOutput Shape          \u001b[0m\u001b[1m \u001b[0m┃\u001b[1m \u001b[0m\u001b[1m      Param #\u001b[0m\u001b[1m \u001b[0m┃\n",
       "┡━━━━━━━━━━━━━━━━━━━━━━━━━━━━━━━━━╇━━━━━━━━━━━━━━━━━━━━━━━━╇━━━━━━━━━━━━━━━┩\n",
       "│ embedding (\u001b[38;5;33mEmbedding\u001b[0m)           │ ?                      │   \u001b[38;5;34m0\u001b[0m (unbuilt) │\n",
       "├─────────────────────────────────┼────────────────────────┼───────────────┤\n",
       "│ bidirectional (\u001b[38;5;33mBidirectional\u001b[0m)   │ ?                      │   \u001b[38;5;34m0\u001b[0m (unbuilt) │\n",
       "├─────────────────────────────────┼────────────────────────┼───────────────┤\n",
       "│ dropout (\u001b[38;5;33mDropout\u001b[0m)               │ ?                      │             \u001b[38;5;34m0\u001b[0m │\n",
       "├─────────────────────────────────┼────────────────────────┼───────────────┤\n",
       "│ bidirectional_1 (\u001b[38;5;33mBidirectional\u001b[0m) │ ?                      │   \u001b[38;5;34m0\u001b[0m (unbuilt) │\n",
       "├─────────────────────────────────┼────────────────────────┼───────────────┤\n",
       "│ dropout_1 (\u001b[38;5;33mDropout\u001b[0m)             │ ?                      │             \u001b[38;5;34m0\u001b[0m │\n",
       "├─────────────────────────────────┼────────────────────────┼───────────────┤\n",
       "│ bidirectional_2 (\u001b[38;5;33mBidirectional\u001b[0m) │ ?                      │   \u001b[38;5;34m0\u001b[0m (unbuilt) │\n",
       "├─────────────────────────────────┼────────────────────────┼───────────────┤\n",
       "│ dense (\u001b[38;5;33mDense\u001b[0m)                   │ ?                      │   \u001b[38;5;34m0\u001b[0m (unbuilt) │\n",
       "└─────────────────────────────────┴────────────────────────┴───────────────┘\n"
      ]
     },
     "metadata": {},
     "output_type": "display_data"
    },
    {
     "data": {
      "text/html": [
       "<pre style=\"white-space:pre;overflow-x:auto;line-height:normal;font-family:Menlo,'DejaVu Sans Mono',consolas,'Courier New',monospace\"><span style=\"font-weight: bold\"> Total params: </span><span style=\"color: #00af00; text-decoration-color: #00af00\">0</span> (0.00 B)\n",
       "</pre>\n"
      ],
      "text/plain": [
       "\u001b[1m Total params: \u001b[0m\u001b[38;5;34m0\u001b[0m (0.00 B)\n"
      ]
     },
     "metadata": {},
     "output_type": "display_data"
    },
    {
     "data": {
      "text/html": [
       "<pre style=\"white-space:pre;overflow-x:auto;line-height:normal;font-family:Menlo,'DejaVu Sans Mono',consolas,'Courier New',monospace\"><span style=\"font-weight: bold\"> Trainable params: </span><span style=\"color: #00af00; text-decoration-color: #00af00\">0</span> (0.00 B)\n",
       "</pre>\n"
      ],
      "text/plain": [
       "\u001b[1m Trainable params: \u001b[0m\u001b[38;5;34m0\u001b[0m (0.00 B)\n"
      ]
     },
     "metadata": {},
     "output_type": "display_data"
    },
    {
     "data": {
      "text/html": [
       "<pre style=\"white-space:pre;overflow-x:auto;line-height:normal;font-family:Menlo,'DejaVu Sans Mono',consolas,'Courier New',monospace\"><span style=\"font-weight: bold\"> Non-trainable params: </span><span style=\"color: #00af00; text-decoration-color: #00af00\">0</span> (0.00 B)\n",
       "</pre>\n"
      ],
      "text/plain": [
       "\u001b[1m Non-trainable params: \u001b[0m\u001b[38;5;34m0\u001b[0m (0.00 B)\n"
      ]
     },
     "metadata": {},
     "output_type": "display_data"
    }
   ],
   "source": [
    "model.summary()"
   ]
  },
  {
   "cell_type": "markdown",
   "id": "0c9de6fd",
   "metadata": {
    "papermill": {
     "duration": 0.011949,
     "end_time": "2024-10-16T23:23:06.170146",
     "exception": false,
     "start_time": "2024-10-16T23:23:06.158197",
     "status": "completed"
    },
    "tags": []
   },
   "source": [
    "# I used this initially so I kept it here, but decided to hyperparameterize using a tool down below"
   ]
  },
  {
   "cell_type": "code",
   "execution_count": 17,
   "id": "61803bb6",
   "metadata": {
    "execution": {
     "iopub.execute_input": "2024-10-16T23:23:06.196201Z",
     "iopub.status.busy": "2024-10-16T23:23:06.195805Z",
     "iopub.status.idle": "2024-10-16T23:23:06.205483Z",
     "shell.execute_reply": "2024-10-16T23:23:06.204307Z"
    },
    "papermill": {
     "duration": 0.025479,
     "end_time": "2024-10-16T23:23:06.207862",
     "exception": false,
     "start_time": "2024-10-16T23:23:06.182383",
     "status": "completed"
    },
    "tags": []
   },
   "outputs": [],
   "source": [
    "def build_model(hp):\n",
    "    model = tf.keras.Sequential()\n",
    "\n",
    "    # Embedding Layer\n",
    "    model.add(tf.keras.layers.Embedding(input_dim=3000, output_dim=33))\n",
    "\n",
    "    # Add multiple Bidirectional LSTM layers with tunable number of units and dropout\n",
    "    for i in range(hp.Int('num_layers', 1, 3)):  # Tuning for 1 to 3 LSTM layers\n",
    "        model.add(tf.keras.layers.Bidirectional(tf.keras.layers.LSTM(\n",
    "            units=hp.Int(f'lstm_units_{i}', min_value=16, max_value=64, step=16),\n",
    "            return_sequences=True if i < hp.Int('num_layers', 1, 3) - 1 else False  # Set return_sequences=True for all but the last layer\n",
    "        )))\n",
    "        model.add(tf.keras.layers.Dropout(hp.Float('dropout_rate', min_value=0.1, max_value=0.5, step=0.1)))\n",
    "\n",
    "    # Output Layer (Sigmoid activation for binary classification)\n",
    "    model.add(tf.keras.layers.Dense(1, activation='sigmoid'))\n",
    "\n",
    "    # Compile the model using Adam optimizer\n",
    "    model.compile(\n",
    "        optimizer=tf.keras.optimizers.Adam(learning_rate=hp.Float('learning_rate', min_value=1e-4, max_value=1e-2, sampling='LOG')),  # Tune learning rate\n",
    "        loss='binary_crossentropy',\n",
    "        metrics=[tf.keras.metrics.BinaryAccuracy(), tf.keras.metrics.AUC()]\n",
    "    )\n",
    "\n",
    "    return model"
   ]
  },
  {
   "cell_type": "code",
   "execution_count": 18,
   "id": "34a51990",
   "metadata": {
    "execution": {
     "iopub.execute_input": "2024-10-16T23:23:06.235583Z",
     "iopub.status.busy": "2024-10-16T23:23:06.234804Z",
     "iopub.status.idle": "2024-10-16T23:40:49.478493Z",
     "shell.execute_reply": "2024-10-16T23:40:49.477351Z"
    },
    "papermill": {
     "duration": 1063.260499,
     "end_time": "2024-10-16T23:40:49.480744",
     "exception": false,
     "start_time": "2024-10-16T23:23:06.220245",
     "status": "completed"
    },
    "tags": []
   },
   "outputs": [
    {
     "name": "stdout",
     "output_type": "stream",
     "text": [
      "Trial 10 Complete [00h 03m 33s]\n",
      "val_binary_accuracy: 0.8049901723861694\n",
      "\n",
      "Best val_binary_accuracy So Far: 0.8174655437469482\n",
      "Total elapsed time: 00h 17m 42s\n"
     ]
    },
    {
     "data": {
      "text/html": [
       "<pre style=\"white-space:pre;overflow-x:auto;line-height:normal;font-family:Menlo,'DejaVu Sans Mono',consolas,'Courier New',monospace\"><span style=\"font-weight: bold\">Model: \"sequential\"</span>\n",
       "</pre>\n"
      ],
      "text/plain": [
       "\u001b[1mModel: \"sequential\"\u001b[0m\n"
      ]
     },
     "metadata": {},
     "output_type": "display_data"
    },
    {
     "data": {
      "text/html": [
       "<pre style=\"white-space:pre;overflow-x:auto;line-height:normal;font-family:Menlo,'DejaVu Sans Mono',consolas,'Courier New',monospace\">┏━━━━━━━━━━━━━━━━━━━━━━━━━━━━━━━━━┳━━━━━━━━━━━━━━━━━━━━━━━━┳━━━━━━━━━━━━━━━┓\n",
       "┃<span style=\"font-weight: bold\"> Layer (type)                    </span>┃<span style=\"font-weight: bold\"> Output Shape           </span>┃<span style=\"font-weight: bold\">       Param # </span>┃\n",
       "┡━━━━━━━━━━━━━━━━━━━━━━━━━━━━━━━━━╇━━━━━━━━━━━━━━━━━━━━━━━━╇━━━━━━━━━━━━━━━┩\n",
       "│ embedding (<span style=\"color: #0087ff; text-decoration-color: #0087ff\">Embedding</span>)           │ (<span style=\"color: #00d7ff; text-decoration-color: #00d7ff\">None</span>, <span style=\"color: #00af00; text-decoration-color: #00af00\">34</span>, <span style=\"color: #00af00; text-decoration-color: #00af00\">33</span>)         │        <span style=\"color: #00af00; text-decoration-color: #00af00\">99,000</span> │\n",
       "├─────────────────────────────────┼────────────────────────┼───────────────┤\n",
       "│ bidirectional (<span style=\"color: #0087ff; text-decoration-color: #0087ff\">Bidirectional</span>)   │ (<span style=\"color: #00d7ff; text-decoration-color: #00d7ff\">None</span>, <span style=\"color: #00af00; text-decoration-color: #00af00\">96</span>)             │        <span style=\"color: #00af00; text-decoration-color: #00af00\">31,488</span> │\n",
       "├─────────────────────────────────┼────────────────────────┼───────────────┤\n",
       "│ dropout (<span style=\"color: #0087ff; text-decoration-color: #0087ff\">Dropout</span>)               │ (<span style=\"color: #00d7ff; text-decoration-color: #00d7ff\">None</span>, <span style=\"color: #00af00; text-decoration-color: #00af00\">96</span>)             │             <span style=\"color: #00af00; text-decoration-color: #00af00\">0</span> │\n",
       "├─────────────────────────────────┼────────────────────────┼───────────────┤\n",
       "│ dense (<span style=\"color: #0087ff; text-decoration-color: #0087ff\">Dense</span>)                   │ (<span style=\"color: #00d7ff; text-decoration-color: #00d7ff\">None</span>, <span style=\"color: #00af00; text-decoration-color: #00af00\">1</span>)              │            <span style=\"color: #00af00; text-decoration-color: #00af00\">97</span> │\n",
       "└─────────────────────────────────┴────────────────────────┴───────────────┘\n",
       "</pre>\n"
      ],
      "text/plain": [
       "┏━━━━━━━━━━━━━━━━━━━━━━━━━━━━━━━━━┳━━━━━━━━━━━━━━━━━━━━━━━━┳━━━━━━━━━━━━━━━┓\n",
       "┃\u001b[1m \u001b[0m\u001b[1mLayer (type)                   \u001b[0m\u001b[1m \u001b[0m┃\u001b[1m \u001b[0m\u001b[1mOutput Shape          \u001b[0m\u001b[1m \u001b[0m┃\u001b[1m \u001b[0m\u001b[1m      Param #\u001b[0m\u001b[1m \u001b[0m┃\n",
       "┡━━━━━━━━━━━━━━━━━━━━━━━━━━━━━━━━━╇━━━━━━━━━━━━━━━━━━━━━━━━╇━━━━━━━━━━━━━━━┩\n",
       "│ embedding (\u001b[38;5;33mEmbedding\u001b[0m)           │ (\u001b[38;5;45mNone\u001b[0m, \u001b[38;5;34m34\u001b[0m, \u001b[38;5;34m33\u001b[0m)         │        \u001b[38;5;34m99,000\u001b[0m │\n",
       "├─────────────────────────────────┼────────────────────────┼───────────────┤\n",
       "│ bidirectional (\u001b[38;5;33mBidirectional\u001b[0m)   │ (\u001b[38;5;45mNone\u001b[0m, \u001b[38;5;34m96\u001b[0m)             │        \u001b[38;5;34m31,488\u001b[0m │\n",
       "├─────────────────────────────────┼────────────────────────┼───────────────┤\n",
       "│ dropout (\u001b[38;5;33mDropout\u001b[0m)               │ (\u001b[38;5;45mNone\u001b[0m, \u001b[38;5;34m96\u001b[0m)             │             \u001b[38;5;34m0\u001b[0m │\n",
       "├─────────────────────────────────┼────────────────────────┼───────────────┤\n",
       "│ dense (\u001b[38;5;33mDense\u001b[0m)                   │ (\u001b[38;5;45mNone\u001b[0m, \u001b[38;5;34m1\u001b[0m)              │            \u001b[38;5;34m97\u001b[0m │\n",
       "└─────────────────────────────────┴────────────────────────┴───────────────┘\n"
      ]
     },
     "metadata": {},
     "output_type": "display_data"
    },
    {
     "data": {
      "text/html": [
       "<pre style=\"white-space:pre;overflow-x:auto;line-height:normal;font-family:Menlo,'DejaVu Sans Mono',consolas,'Courier New',monospace\"><span style=\"font-weight: bold\"> Total params: </span><span style=\"color: #00af00; text-decoration-color: #00af00\">130,585</span> (510.10 KB)\n",
       "</pre>\n"
      ],
      "text/plain": [
       "\u001b[1m Total params: \u001b[0m\u001b[38;5;34m130,585\u001b[0m (510.10 KB)\n"
      ]
     },
     "metadata": {},
     "output_type": "display_data"
    },
    {
     "data": {
      "text/html": [
       "<pre style=\"white-space:pre;overflow-x:auto;line-height:normal;font-family:Menlo,'DejaVu Sans Mono',consolas,'Courier New',monospace\"><span style=\"font-weight: bold\"> Trainable params: </span><span style=\"color: #00af00; text-decoration-color: #00af00\">130,585</span> (510.10 KB)\n",
       "</pre>\n"
      ],
      "text/plain": [
       "\u001b[1m Trainable params: \u001b[0m\u001b[38;5;34m130,585\u001b[0m (510.10 KB)\n"
      ]
     },
     "metadata": {},
     "output_type": "display_data"
    },
    {
     "data": {
      "text/html": [
       "<pre style=\"white-space:pre;overflow-x:auto;line-height:normal;font-family:Menlo,'DejaVu Sans Mono',consolas,'Courier New',monospace\"><span style=\"font-weight: bold\"> Non-trainable params: </span><span style=\"color: #00af00; text-decoration-color: #00af00\">0</span> (0.00 B)\n",
       "</pre>\n"
      ],
      "text/plain": [
       "\u001b[1m Non-trainable params: \u001b[0m\u001b[38;5;34m0\u001b[0m (0.00 B)\n"
      ]
     },
     "metadata": {},
     "output_type": "display_data"
    }
   ],
   "source": [
    "tuner = kt.RandomSearch(\n",
    "    build_model,\n",
    "    objective='val_binary_accuracy',  # Tune for validation accuracy\n",
    "    max_trials=10,  # Number of hyperparameter combinations to try\n",
    "    executions_per_trial=1,  # Number of times to execute each trial\n",
    "    directory='my_dir',  # Directory to save logs\n",
    "    project_name='disaster_tweets'  # Name of the project\n",
    ")\n",
    "\n",
    "tuner.search(X_train_final, y_train_final, epochs=20, validation_data=(X_val_final, y_val_final))\n",
    "best_model = tuner.get_best_models(num_models=1)[0]\n",
    "best_model.summary()"
   ]
  },
  {
   "cell_type": "markdown",
   "id": "ac80b670",
   "metadata": {
    "papermill": {
     "duration": 0.01263,
     "end_time": "2024-10-16T23:40:49.506529",
     "exception": false,
     "start_time": "2024-10-16T23:40:49.493899",
     "status": "completed"
    },
    "tags": []
   },
   "source": [
    "# **Model Evaluation:**"
   ]
  },
  {
   "cell_type": "markdown",
   "id": "406f5221",
   "metadata": {
    "papermill": {
     "duration": 0.012553,
     "end_time": "2024-10-16T23:40:49.531918",
     "exception": false,
     "start_time": "2024-10-16T23:40:49.519365",
     "status": "completed"
    },
    "tags": []
   },
   "source": [
    "#### **F-1 Score:**"
   ]
  },
  {
   "cell_type": "code",
   "execution_count": 19,
   "id": "dcfb86d7",
   "metadata": {
    "execution": {
     "iopub.execute_input": "2024-10-16T23:40:49.559466Z",
     "iopub.status.busy": "2024-10-16T23:40:49.559087Z",
     "iopub.status.idle": "2024-10-16T23:40:50.598613Z",
     "shell.execute_reply": "2024-10-16T23:40:50.597438Z"
    },
    "papermill": {
     "duration": 1.056062,
     "end_time": "2024-10-16T23:40:50.600920",
     "exception": false,
     "start_time": "2024-10-16T23:40:49.544858",
     "status": "completed"
    },
    "tags": []
   },
   "outputs": [
    {
     "name": "stdout",
     "output_type": "stream",
     "text": [
      "\u001b[1m48/48\u001b[0m \u001b[32m━━━━━━━━━━━━━━━━━━━━\u001b[0m\u001b[37m\u001b[0m \u001b[1m1s\u001b[0m 12ms/step\n",
      "F1 Score: 0.7557117750439367\n"
     ]
    }
   ],
   "source": [
    "y_val_pred = (best_model.predict(X_val_final) > 0.5).astype(\"int32\")\n",
    "\n",
    "# Calculate the F1 score\n",
    "f1 = f1_score(y_val_final, y_val_pred)\n",
    "print(f\"F1 Score: {f1}\")"
   ]
  },
  {
   "cell_type": "markdown",
   "id": "2f6d5a0b",
   "metadata": {
    "papermill": {
     "duration": 0.013363,
     "end_time": "2024-10-16T23:40:50.628571",
     "exception": false,
     "start_time": "2024-10-16T23:40:50.615208",
     "status": "completed"
    },
    "tags": []
   },
   "source": [
    "#### **Confusion Matrix:**"
   ]
  },
  {
   "cell_type": "code",
   "execution_count": 20,
   "id": "74f60c04",
   "metadata": {
    "execution": {
     "iopub.execute_input": "2024-10-16T23:40:50.657860Z",
     "iopub.status.busy": "2024-10-16T23:40:50.656929Z",
     "iopub.status.idle": "2024-10-16T23:40:50.907148Z",
     "shell.execute_reply": "2024-10-16T23:40:50.906103Z"
    },
    "papermill": {
     "duration": 0.267549,
     "end_time": "2024-10-16T23:40:50.909615",
     "exception": false,
     "start_time": "2024-10-16T23:40:50.642066",
     "status": "completed"
    },
    "tags": []
   },
   "outputs": [
    {
     "data": {
      "image/png": "[encoded data removed]",
      "text/plain": [
       "<Figure size 800x600 with 2 Axes>"
      ]
     },
     "metadata": {},
     "output_type": "display_data"
    }
   ],
   "source": [
    "cm = confusion_matrix(y_val_final, y_val_pred)\n",
    "plt.figure(figsize=(8, 6))\n",
    "sns.heatmap(cm, annot=True, fmt='d', cmap='Blues', xticklabels=['Non-Disaster', 'Disaster'], yticklabels=['Non-Disaster', 'Disaster'])\n",
    "plt.title('Confusion Matrix (Validation Set)')\n",
    "plt.ylabel('True Label')\n",
    "plt.xlabel('Predicted Label')\n",
    "plt.show()"
   ]
  },
  {
   "cell_type": "markdown",
   "id": "4ff630e2",
   "metadata": {
    "papermill": {
     "duration": 0.013912,
     "end_time": "2024-10-16T23:40:50.937688",
     "exception": false,
     "start_time": "2024-10-16T23:40:50.923776",
     "status": "completed"
    },
    "tags": []
   },
   "source": [
    "#### **ROC Curve and AUC:**"
   ]
  },
  {
   "cell_type": "code",
   "execution_count": 21,
   "id": "96d0ac73",
   "metadata": {
    "execution": {
     "iopub.execute_input": "2024-10-16T23:40:50.967776Z",
     "iopub.status.busy": "2024-10-16T23:40:50.967367Z",
     "iopub.status.idle": "2024-10-16T23:40:51.543046Z",
     "shell.execute_reply": "2024-10-16T23:40:51.541955Z"
    },
    "papermill": {
     "duration": 0.593694,
     "end_time": "2024-10-16T23:40:51.545475",
     "exception": false,
     "start_time": "2024-10-16T23:40:50.951781",
     "status": "completed"
    },
    "tags": []
   },
   "outputs": [
    {
     "name": "stdout",
     "output_type": "stream",
     "text": [
      "\u001b[1m48/48\u001b[0m \u001b[32m━━━━━━━━━━━━━━━━━━━━\u001b[0m\u001b[37m\u001b[0m \u001b[1m0s\u001b[0m 5ms/step\n"
     ]
    },
    {
     "data": {
      "image/png": "[encoded data removed]",
      "text/plain": [
       "<Figure size 800x600 with 1 Axes>"
      ]
     },
     "metadata": {},
     "output_type": "display_data"
    }
   ],
   "source": [
    "y_val_pred_prob = best_model.predict(X_val_final)\n",
    "\n",
    "fpr, tpr, thresholds = roc_curve(y_val_final, y_val_pred_prob)\n",
    "roc_auc = auc(fpr, tpr)\n",
    "\n",
    "plt.figure(figsize=(8, 6))\n",
    "plt.plot(fpr, tpr, color='blue', label=f'ROC Curve (AUC = {roc_auc:.2f})')\n",
    "plt.plot([0, 1], [0, 1], color='red', linestyle='--') \n",
    "plt.title('ROC Curve (Validation Set)')\n",
    "plt.xlabel('False Positive Rate')\n",
    "plt.ylabel('True Positive Rate')\n",
    "plt.legend(loc='lower right')\n",
    "plt.show()\n"
   ]
  },
  {
   "cell_type": "code",
   "execution_count": 22,
   "id": "17ecd368",
   "metadata": {
    "execution": {
     "iopub.execute_input": "2024-10-16T23:40:51.578466Z",
     "iopub.status.busy": "2024-10-16T23:40:51.577636Z",
     "iopub.status.idle": "2024-10-16T23:40:52.266479Z",
     "shell.execute_reply": "2024-10-16T23:40:52.265454Z"
    },
    "papermill": {
     "duration": 0.708131,
     "end_time": "2024-10-16T23:40:52.269005",
     "exception": false,
     "start_time": "2024-10-16T23:40:51.560874",
     "status": "completed"
    },
    "tags": []
   },
   "outputs": [
    {
     "name": "stdout",
     "output_type": "stream",
     "text": [
      "\u001b[1m102/102\u001b[0m \u001b[32m━━━━━━━━━━━━━━━━━━━━\u001b[0m\u001b[37m\u001b[0m \u001b[1m1s\u001b[0m 5ms/step\n"
     ]
    }
   ],
   "source": [
    "y_pred = best_model.predict(X_test_combined)\n",
    "y_submit = []\n",
    "for val in y_pred:\n",
    "    if val >= 0.5:\n",
    "        y_submit += [1]\n",
    "    else:\n",
    "        y_submit += [0]"
   ]
  },
  {
   "cell_type": "markdown",
   "id": "affd9015",
   "metadata": {
    "papermill": {
     "duration": 0.016009,
     "end_time": "2024-10-16T23:40:52.301393",
     "exception": false,
     "start_time": "2024-10-16T23:40:52.285384",
     "status": "completed"
    },
    "tags": []
   },
   "source": [
    "# **Analysis of Performance**\n",
    "1. **Model Structure:**\n",
    "- The model consists of an embedding layer followed by a bidirectional LSTM layer and a dense layer.\n",
    "- Bidirectional LSTM: This model worked reasonably well with a validation accuracy of 81.8%. Bidirectional LSTMs are advantageous in NLP tasks because they process input sequences in both forward and backward directions, capturing more contextual information.\n",
    "- Dropout: The dropout layer, with a tunable rate (between 0.1 and 0.5), helped prevent overfitting, ensuring that the model generalizes better to unseen data.\n",
    "\n",
    "2. **Performance Evaluation:**\n",
    "- The F1 Score on the validation set was 0.763, which is a reasonable performance given the task at hand. However, there is room for improvement, particularly in reducing false negatives, as the confusion matrix shows that 203 disaster tweets were misclassified as non-disaster.\n",
    "- The ROC Curve AUC of 0.86 indicates that the model has a good ability to distinguish between disaster and non-disaster tweets. An AUC value above 0.85 is considered strong, but there's still a gap to improve this performance further.\n",
    "\n",
    "3. **Why It Worked:**\n",
    "- Embedding Layer: The embedding layer is able to transform the tokenized words into dense vectors, allowing the model to better capture semantic meaning between words. This was key for learning from the disaster-related vocabulary (e.g., words like \"emergency\", \"fire\", \"flood\").\n",
    "- Bidirectional LSTM: The LSTM's ability to retain long-term dependencies in text and capture bidirectional context is essential in understanding tweets, where the meaning often depends on the entire sentence. This allowed the model to capture disaster-specific patterns in both forward and backward directions.\n",
    "- Hyperparameter Tuning: Tuning the number of LSTM units, the number of layers, dropout rates, and learning rates allowed us to fine-tune the architecture and improve validation accuracy.\n",
    "\n",
    "4. **Why It Didn’t Work Well:**\n",
    "- False Negatives: As shown in the confusion matrix, 203 disaster tweets were misclassified as non-disaster. This could indicate that the model struggles with more nuanced or ambiguous tweets where the context doesn’t provide strong disaster-related cues.\n",
    "- Single LSTM Layer: Using a single LSTM layer may not capture enough complexity in the data. More layers or different architectures (e.g., GRU, deeper LSTM stacks) could potentially improve performance.\n",
    "- Imbalanced Data: Disaster-related tweets are generally less frequent than non-disaster tweets, which may lead to the model leaning towards non-disaster classifications more often (resulting in false negatives).\n",
    "\n",
    "# **Troubleshooting & Hyperparameter Optimization Procedure Summary**\n",
    "\n",
    "1. Hyperparameter Tuning:\n",
    "- The model was tuned for the following hyperparameters:\n",
    "    - Number of LSTM Units: I tuned the number of units in the LSTM layers between 16 and 64. The best model had 64 units, indicating that more capacity helps the model better capture disaster-related information in tweets.\n",
    "    - Number of LSTM Layers: I tried between 1 to 3 layers, but adding more layers didn’t significantly improve performance. The best model had a single LSTM layer, suggesting that deeper architectures might require more data or careful regularization to avoid overfitting.\n",
    "    - Dropout Rate: The dropout rate was tuned between 0.1 and 0.5 to combat overfitting. The best model had a dropout rate of 0.2, suggesting that regularization played an important role in improving the model’s generalization ability.\n",
    "    - Learning Rate: I tuned the learning rate between 1e-4 and 1e-2. A smaller learning rate (around 1e-3) worked best, as a higher learning rate may have caused the model to converge too quickly and miss an optimal solution.\n"
   ]
  },
  {
   "cell_type": "markdown",
   "id": "f7a0bc5b",
   "metadata": {
    "papermill": {
     "duration": 0.015868,
     "end_time": "2024-10-16T23:40:52.333351",
     "exception": false,
     "start_time": "2024-10-16T23:40:52.317483",
     "status": "completed"
    },
    "tags": []
   },
   "source": [
    "# **Submission**"
   ]
  },
  {
   "cell_type": "code",
   "execution_count": 23,
   "id": "ee255cf0",
   "metadata": {
    "execution": {
     "iopub.execute_input": "2024-10-16T23:40:52.367606Z",
     "iopub.status.busy": "2024-10-16T23:40:52.366896Z",
     "iopub.status.idle": "2024-10-16T23:40:52.380281Z",
     "shell.execute_reply": "2024-10-16T23:40:52.379303Z"
    },
    "papermill": {
     "duration": 0.033176,
     "end_time": "2024-10-16T23:40:52.382609",
     "exception": false,
     "start_time": "2024-10-16T23:40:52.349433",
     "status": "completed"
    },
    "tags": []
   },
   "outputs": [],
   "source": [
    "test_id = pd.DataFrame(test[\"id\"])\n",
    "merged_df = pd.concat([test_id, pd.DataFrame(y_submit, columns=[\"target\"])], axis=1)\n",
    "merged_df.to_csv(\"submission.csv\", index = False)"
   ]
  },
  {
   "cell_type": "code",
   "execution_count": 24,
   "id": "fc73d0f2",
   "metadata": {
    "execution": {
     "iopub.execute_input": "2024-10-16T23:40:52.417140Z",
     "iopub.status.busy": "2024-10-16T23:40:52.416723Z",
     "iopub.status.idle": "2024-10-16T23:40:52.426460Z",
     "shell.execute_reply": "2024-10-16T23:40:52.425451Z"
    },
    "papermill": {
     "duration": 0.029858,
     "end_time": "2024-10-16T23:40:52.428865",
     "exception": false,
     "start_time": "2024-10-16T23:40:52.399007",
     "status": "completed"
    },
    "tags": []
   },
   "outputs": [
    {
     "data": {
      "text/html": [
       "<div>\n",
       "<style scoped>\n",
       "    .dataframe tbody tr th:only-of-type {\n",
       "        vertical-align: middle;\n",
       "    }\n",
       "\n",
       "    .dataframe tbody tr th {\n",
       "        vertical-align: top;\n",
       "    }\n",
       "\n",
       "    .dataframe thead th {\n",
       "        text-align: right;\n",
       "    }\n",
       "</style>\n",
       "<table border=\"1\" class=\"dataframe\">\n",
       "  <thead>\n",
       "    <tr style=\"text-align: right;\">\n",
       "      <th></th>\n",
       "      <th>id</th>\n",
       "      <th>target</th>\n",
       "    </tr>\n",
       "  </thead>\n",
       "  <tbody>\n",
       "    <tr>\n",
       "      <th>0</th>\n",
       "      <td>0</td>\n",
       "      <td>1</td>\n",
       "    </tr>\n",
       "    <tr>\n",
       "      <th>1</th>\n",
       "      <td>2</td>\n",
       "      <td>1</td>\n",
       "    </tr>\n",
       "    <tr>\n",
       "      <th>2</th>\n",
       "      <td>3</td>\n",
       "      <td>1</td>\n",
       "    </tr>\n",
       "    <tr>\n",
       "      <th>3</th>\n",
       "      <td>9</td>\n",
       "      <td>0</td>\n",
       "    </tr>\n",
       "    <tr>\n",
       "      <th>4</th>\n",
       "      <td>11</td>\n",
       "      <td>1</td>\n",
       "    </tr>\n",
       "  </tbody>\n",
       "</table>\n",
       "</div>"
      ],
      "text/plain": [
       "   id  target\n",
       "0   0       1\n",
       "1   2       1\n",
       "2   3       1\n",
       "3   9       0\n",
       "4  11       1"
      ]
     },
     "execution_count": 24,
     "metadata": {},
     "output_type": "execute_result"
    }
   ],
   "source": [
    "merged_df.head()"
   ]
  },
  {
   "cell_type": "markdown",
   "id": "9789b956",
   "metadata": {
    "papermill": {
     "duration": 0.016824,
     "end_time": "2024-10-16T23:40:52.462528",
     "exception": false,
     "start_time": "2024-10-16T23:40:52.445704",
     "status": "completed"
    },
    "tags": []
   },
   "source": [
    "# **Conclusions:**\n",
    "### **Learnings and Takeaways:**\n",
    "**What Worked**\n",
    "- Bidirectional LSTMs: These are effective at capturing both forward and backward context, which is especially useful in NLP tasks where the order and context of words are critical for understanding the text. This worked well in our case by improving the model’s ability to interpret the entire tweet.\n",
    "\n",
    "- Dropout Regularization: Dropout successfully prevented overfitting, as seen by the lack of significant overfitting to the training data (validation accuracy was similar to training accuracy). A dropout rate of 0.2 provided enough regularization without hindering the model’s ability to learn.\n",
    "\n",
    "- Imbalanced Data: Class imbalance remains an issue, as evidenced by the relatively high number of false negatives. Although the model performs well overall, it struggles with detecting disaster-related tweets in some cases.\n",
    "\n",
    "**What Didn't Work:**\n",
    "\n",
    "- Single LSTM Layer: Although a single LSTM layer provided good results, adding more LSTM layers did not significantly improve performance. This may indicate that the model’s complexity is limited by the available data.\n",
    "\n",
    "- Hyperparameter Sensitivity: The model was somewhat sensitive to changes in learning rate and dropout rates. While tuning helped, performance gains were incremental, suggesting that a different architecture or additional features might be needed to make more significant improvements.\n",
    "\n",
    "**Future Improvements**\n",
    "\n",
    "- Handling Imbalanced Data:\n",
    "    - Class Weighting: Assigning a higher weight to disaster-related tweets during training could help reduce the number of false negatives by encouraging the model to pay more attention to underrepresented classes.\n",
    "    - Oversampling/Undersampling: Using techniques like SMOTE (Synthetic Minority Over-sampling Technique) could help balance the dataset by generating synthetic samples for disaster tweets.\n",
    "\n",
    "- Architectural Improvements:\n",
    "    - Stacked LSTM Layers: Experimenting with more stacked LSTM layers or other architectures like GRU (Gated Recurrent Units) could improve performance, especially for more complex tweet sequences.\n",
    "    - Attention Mechanisms: Adding an attention layer could help the model focus on the most relevant parts of the tweet when making predictions, particularly for disaster-related information.\n",
    "- Feature Engineering:\n",
    "    - Incorporating additional features like sentiment analysis or TF-IDF scores in combination with LSTM outputs could provide more context for the model and improve performance.\n",
    "- Further Hyperparameter Tuning:\n",
    "- I could try grid search across a larger hyperparameter space, especially focusing on tuning the dropout rates, learning rate schedules, and different optimizers like RMSprop or AdamW.\n",
    "\n",
    "## **Final Conclusion**\n",
    "\n",
    "**The model performed reasonably well, achieving a validation accuracy of 81.8%, with an AUC of 0.86 and an F1 score of 0.76. However, there are still areas for improvement, particularly in reducing false negatives for disaster-related tweets. Future efforts should focus on handling class imbalance, experimenting with more complex architectures, and incorporating additional features that could provide better context to the model.**\n",
    "\n",
    "# **GITHUB LINK: https://github.com/EashanSahai/NLPTweets**"
   ]
  },
  {
   "cell_type": "markdown",
   "id": "659e02db",
   "metadata": {},
   "source": []
  }
 ],
 "metadata": {
  "kaggle": {
   "accelerator": "none",
   "dataSources": [
    {
     "databundleVersionId": 869809,
     "sourceId": 17777,
     "sourceType": "competition"
    }
   ],
   "dockerImageVersionId": 30698,
   "isGpuEnabled": false,
   "isInternetEnabled": true,
   "language": "python",
   "sourceType": "notebook"
  },
  "kernelspec": {
   "display_name": "Python 3",
   "language": "python",
   "name": "python3"
  },
  "language_info": {
   "codemirror_mode": {
    "name": "ipython",
    "version": 3
   },
   "file_extension": ".py",
   "mimetype": "text/x-python",
   "name": "python",
   "nbconvert_exporter": "python",
   "pygments_lexer": "ipython3",
   "version": "3.10.13"
  },
  "papermill": {
   "default_parameters": {},
   "duration": 1091.753239,
   "end_time": "2024-10-16T23:40:54.207285",
   "environment_variables": {},
   "exception": null,
   "input_path": "__notebook__.ipynb",
   "output_path": "__notebook__.ipynb",
   "parameters": {},
   "start_time": "2024-10-16T23:22:42.454046",
   "version": "2.5.0"
  }
 },
 "nbformat": 4,
 "nbformat_minor": 5
}
